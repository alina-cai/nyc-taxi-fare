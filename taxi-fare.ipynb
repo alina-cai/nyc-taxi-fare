{
 "cells": [
  {
   "cell_type": "code",
   "execution_count": 166,
   "metadata": {},
   "outputs": [],
   "source": [
    "import numpy as np\n",
    "import pandas as pd\n",
    "import matplotlib.pyplot as plt\n",
    "%matplotlib inline\n",
    "plt.style.use('seaborn-v0_8-dark')\n",
    "pd.set_option('display.float_format', lambda x: '%.3f' % x)"
   ]
  },
  {
   "cell_type": "code",
   "execution_count": 167,
   "metadata": {},
   "outputs": [
    {
     "name": "stdout",
     "output_type": "stream",
     "text": [
      "The training dataset has 5000000 entries.\n"
     ]
    }
   ],
   "source": [
    "taxi = pd.read_csv('data/train.csv', nrows = 5_000_000, parse_dates = ['pickup_datetime']).drop(columns = 'key')\n",
    "\n",
    "print(\"The training dataset has {} entries.\".format(len(taxi)))"
   ]
  },
  {
   "cell_type": "code",
   "execution_count": 168,
   "metadata": {},
   "outputs": [
    {
     "name": "stdout",
     "output_type": "stream",
     "text": [
      "The testing dataset has 9914 entries.\n"
     ]
    }
   ],
   "source": [
    "test = pd.read_csv('data/test.csv', nrows = 10_000, parse_dates = ['pickup_datetime']).drop(columns = 'key')\n",
    "\n",
    "print(\"The testing dataset has {} entries.\".format(len(test)))"
   ]
  },
  {
   "cell_type": "code",
   "execution_count": 169,
   "metadata": {},
   "outputs": [
    {
     "data": {
      "text/html": [
       "<div>\n",
       "<style scoped>\n",
       "    .dataframe tbody tr th:only-of-type {\n",
       "        vertical-align: middle;\n",
       "    }\n",
       "\n",
       "    .dataframe tbody tr th {\n",
       "        vertical-align: top;\n",
       "    }\n",
       "\n",
       "    .dataframe thead th {\n",
       "        text-align: right;\n",
       "    }\n",
       "</style>\n",
       "<table border=\"1\" class=\"dataframe\">\n",
       "  <thead>\n",
       "    <tr style=\"text-align: right;\">\n",
       "      <th></th>\n",
       "      <th>fare_amount</th>\n",
       "      <th>pickup_datetime</th>\n",
       "      <th>pickup_longitude</th>\n",
       "      <th>pickup_latitude</th>\n",
       "      <th>dropoff_longitude</th>\n",
       "      <th>dropoff_latitude</th>\n",
       "      <th>passenger_count</th>\n",
       "    </tr>\n",
       "  </thead>\n",
       "  <tbody>\n",
       "    <tr>\n",
       "      <th>0</th>\n",
       "      <td>4.500</td>\n",
       "      <td>2009-06-15 17:26:21+00:00</td>\n",
       "      <td>-73.844</td>\n",
       "      <td>40.721</td>\n",
       "      <td>-73.842</td>\n",
       "      <td>40.712</td>\n",
       "      <td>1</td>\n",
       "    </tr>\n",
       "    <tr>\n",
       "      <th>1</th>\n",
       "      <td>16.900</td>\n",
       "      <td>2010-01-05 16:52:16+00:00</td>\n",
       "      <td>-74.016</td>\n",
       "      <td>40.711</td>\n",
       "      <td>-73.979</td>\n",
       "      <td>40.782</td>\n",
       "      <td>1</td>\n",
       "    </tr>\n",
       "    <tr>\n",
       "      <th>2</th>\n",
       "      <td>5.700</td>\n",
       "      <td>2011-08-18 00:35:00+00:00</td>\n",
       "      <td>-73.983</td>\n",
       "      <td>40.761</td>\n",
       "      <td>-73.991</td>\n",
       "      <td>40.751</td>\n",
       "      <td>2</td>\n",
       "    </tr>\n",
       "    <tr>\n",
       "      <th>3</th>\n",
       "      <td>7.700</td>\n",
       "      <td>2012-04-21 04:30:42+00:00</td>\n",
       "      <td>-73.987</td>\n",
       "      <td>40.733</td>\n",
       "      <td>-73.992</td>\n",
       "      <td>40.758</td>\n",
       "      <td>1</td>\n",
       "    </tr>\n",
       "    <tr>\n",
       "      <th>4</th>\n",
       "      <td>5.300</td>\n",
       "      <td>2010-03-09 07:51:00+00:00</td>\n",
       "      <td>-73.968</td>\n",
       "      <td>40.768</td>\n",
       "      <td>-73.957</td>\n",
       "      <td>40.784</td>\n",
       "      <td>1</td>\n",
       "    </tr>\n",
       "  </tbody>\n",
       "</table>\n",
       "</div>"
      ],
      "text/plain": [
       "   fare_amount           pickup_datetime  pickup_longitude  pickup_latitude  \\\n",
       "0        4.500 2009-06-15 17:26:21+00:00           -73.844           40.721   \n",
       "1       16.900 2010-01-05 16:52:16+00:00           -74.016           40.711   \n",
       "2        5.700 2011-08-18 00:35:00+00:00           -73.983           40.761   \n",
       "3        7.700 2012-04-21 04:30:42+00:00           -73.987           40.733   \n",
       "4        5.300 2010-03-09 07:51:00+00:00           -73.968           40.768   \n",
       "\n",
       "   dropoff_longitude  dropoff_latitude  passenger_count  \n",
       "0            -73.842            40.712                1  \n",
       "1            -73.979            40.782                1  \n",
       "2            -73.991            40.751                2  \n",
       "3            -73.992            40.758                1  \n",
       "4            -73.957            40.784                1  "
      ]
     },
     "execution_count": 169,
     "metadata": {},
     "output_type": "execute_result"
    }
   ],
   "source": [
    "taxi.head()"
   ]
  },
  {
   "cell_type": "code",
   "execution_count": 170,
   "metadata": {},
   "outputs": [
    {
     "data": {
      "text/html": [
       "<div>\n",
       "<style scoped>\n",
       "    .dataframe tbody tr th:only-of-type {\n",
       "        vertical-align: middle;\n",
       "    }\n",
       "\n",
       "    .dataframe tbody tr th {\n",
       "        vertical-align: top;\n",
       "    }\n",
       "\n",
       "    .dataframe thead th {\n",
       "        text-align: right;\n",
       "    }\n",
       "</style>\n",
       "<table border=\"1\" class=\"dataframe\">\n",
       "  <thead>\n",
       "    <tr style=\"text-align: right;\">\n",
       "      <th></th>\n",
       "      <th>pickup_datetime</th>\n",
       "      <th>pickup_longitude</th>\n",
       "      <th>pickup_latitude</th>\n",
       "      <th>dropoff_longitude</th>\n",
       "      <th>dropoff_latitude</th>\n",
       "      <th>passenger_count</th>\n",
       "    </tr>\n",
       "  </thead>\n",
       "  <tbody>\n",
       "    <tr>\n",
       "      <th>0</th>\n",
       "      <td>2015-01-27 13:08:24+00:00</td>\n",
       "      <td>-73.973</td>\n",
       "      <td>40.764</td>\n",
       "      <td>-73.981</td>\n",
       "      <td>40.744</td>\n",
       "      <td>1</td>\n",
       "    </tr>\n",
       "    <tr>\n",
       "      <th>1</th>\n",
       "      <td>2015-01-27 13:08:24+00:00</td>\n",
       "      <td>-73.987</td>\n",
       "      <td>40.719</td>\n",
       "      <td>-73.999</td>\n",
       "      <td>40.739</td>\n",
       "      <td>1</td>\n",
       "    </tr>\n",
       "    <tr>\n",
       "      <th>2</th>\n",
       "      <td>2011-10-08 11:53:44+00:00</td>\n",
       "      <td>-73.983</td>\n",
       "      <td>40.751</td>\n",
       "      <td>-73.980</td>\n",
       "      <td>40.746</td>\n",
       "      <td>1</td>\n",
       "    </tr>\n",
       "    <tr>\n",
       "      <th>3</th>\n",
       "      <td>2012-12-01 21:12:12+00:00</td>\n",
       "      <td>-73.981</td>\n",
       "      <td>40.768</td>\n",
       "      <td>-73.990</td>\n",
       "      <td>40.752</td>\n",
       "      <td>1</td>\n",
       "    </tr>\n",
       "    <tr>\n",
       "      <th>4</th>\n",
       "      <td>2012-12-01 21:12:12+00:00</td>\n",
       "      <td>-73.966</td>\n",
       "      <td>40.790</td>\n",
       "      <td>-73.989</td>\n",
       "      <td>40.744</td>\n",
       "      <td>1</td>\n",
       "    </tr>\n",
       "  </tbody>\n",
       "</table>\n",
       "</div>"
      ],
      "text/plain": [
       "            pickup_datetime  pickup_longitude  pickup_latitude  \\\n",
       "0 2015-01-27 13:08:24+00:00           -73.973           40.764   \n",
       "1 2015-01-27 13:08:24+00:00           -73.987           40.719   \n",
       "2 2011-10-08 11:53:44+00:00           -73.983           40.751   \n",
       "3 2012-12-01 21:12:12+00:00           -73.981           40.768   \n",
       "4 2012-12-01 21:12:12+00:00           -73.966           40.790   \n",
       "\n",
       "   dropoff_longitude  dropoff_latitude  passenger_count  \n",
       "0            -73.981            40.744                1  \n",
       "1            -73.999            40.739                1  \n",
       "2            -73.980            40.746                1  \n",
       "3            -73.990            40.752                1  \n",
       "4            -73.989            40.744                1  "
      ]
     },
     "execution_count": 170,
     "metadata": {},
     "output_type": "execute_result"
    }
   ],
   "source": [
    "test.head()"
   ]
  },
  {
   "cell_type": "code",
   "execution_count": 171,
   "metadata": {},
   "outputs": [
    {
     "data": {
      "text/html": [
       "<div>\n",
       "<style scoped>\n",
       "    .dataframe tbody tr th:only-of-type {\n",
       "        vertical-align: middle;\n",
       "    }\n",
       "\n",
       "    .dataframe tbody tr th {\n",
       "        vertical-align: top;\n",
       "    }\n",
       "\n",
       "    .dataframe thead th {\n",
       "        text-align: right;\n",
       "    }\n",
       "</style>\n",
       "<table border=\"1\" class=\"dataframe\">\n",
       "  <thead>\n",
       "    <tr style=\"text-align: right;\">\n",
       "      <th></th>\n",
       "      <th>fare_amount</th>\n",
       "      <th>pickup_longitude</th>\n",
       "      <th>pickup_latitude</th>\n",
       "      <th>dropoff_longitude</th>\n",
       "      <th>dropoff_latitude</th>\n",
       "      <th>passenger_count</th>\n",
       "    </tr>\n",
       "  </thead>\n",
       "  <tbody>\n",
       "    <tr>\n",
       "      <th>count</th>\n",
       "      <td>5000000.000</td>\n",
       "      <td>5000000.000</td>\n",
       "      <td>5000000.000</td>\n",
       "      <td>4999964.000</td>\n",
       "      <td>4999964.000</td>\n",
       "      <td>5000000.000</td>\n",
       "    </tr>\n",
       "    <tr>\n",
       "      <th>mean</th>\n",
       "      <td>11.341</td>\n",
       "      <td>-72.507</td>\n",
       "      <td>39.920</td>\n",
       "      <td>-72.507</td>\n",
       "      <td>39.917</td>\n",
       "      <td>1.685</td>\n",
       "    </tr>\n",
       "    <tr>\n",
       "      <th>std</th>\n",
       "      <td>9.820</td>\n",
       "      <td>12.810</td>\n",
       "      <td>8.964</td>\n",
       "      <td>12.848</td>\n",
       "      <td>9.487</td>\n",
       "      <td>1.332</td>\n",
       "    </tr>\n",
       "    <tr>\n",
       "      <th>min</th>\n",
       "      <td>-100.000</td>\n",
       "      <td>-3426.609</td>\n",
       "      <td>-3488.080</td>\n",
       "      <td>-3412.653</td>\n",
       "      <td>-3488.080</td>\n",
       "      <td>0.000</td>\n",
       "    </tr>\n",
       "    <tr>\n",
       "      <th>25%</th>\n",
       "      <td>6.000</td>\n",
       "      <td>-73.992</td>\n",
       "      <td>40.735</td>\n",
       "      <td>-73.991</td>\n",
       "      <td>40.734</td>\n",
       "      <td>1.000</td>\n",
       "    </tr>\n",
       "    <tr>\n",
       "      <th>50%</th>\n",
       "      <td>8.500</td>\n",
       "      <td>-73.982</td>\n",
       "      <td>40.753</td>\n",
       "      <td>-73.980</td>\n",
       "      <td>40.753</td>\n",
       "      <td>1.000</td>\n",
       "    </tr>\n",
       "    <tr>\n",
       "      <th>75%</th>\n",
       "      <td>12.500</td>\n",
       "      <td>-73.967</td>\n",
       "      <td>40.767</td>\n",
       "      <td>-73.964</td>\n",
       "      <td>40.768</td>\n",
       "      <td>2.000</td>\n",
       "    </tr>\n",
       "    <tr>\n",
       "      <th>max</th>\n",
       "      <td>1273.310</td>\n",
       "      <td>3439.426</td>\n",
       "      <td>3310.364</td>\n",
       "      <td>3457.622</td>\n",
       "      <td>3345.917</td>\n",
       "      <td>208.000</td>\n",
       "    </tr>\n",
       "  </tbody>\n",
       "</table>\n",
       "</div>"
      ],
      "text/plain": [
       "       fare_amount  pickup_longitude  pickup_latitude  dropoff_longitude  \\\n",
       "count  5000000.000       5000000.000      5000000.000        4999964.000   \n",
       "mean        11.341           -72.507           39.920            -72.507   \n",
       "std          9.820            12.810            8.964             12.848   \n",
       "min       -100.000         -3426.609        -3488.080          -3412.653   \n",
       "25%          6.000           -73.992           40.735            -73.991   \n",
       "50%          8.500           -73.982           40.753            -73.980   \n",
       "75%         12.500           -73.967           40.767            -73.964   \n",
       "max       1273.310          3439.426         3310.364           3457.622   \n",
       "\n",
       "       dropoff_latitude  passenger_count  \n",
       "count       4999964.000      5000000.000  \n",
       "mean             39.917            1.685  \n",
       "std               9.487            1.332  \n",
       "min           -3488.080            0.000  \n",
       "25%              40.734            1.000  \n",
       "50%              40.753            1.000  \n",
       "75%              40.768            2.000  \n",
       "max            3345.917          208.000  "
      ]
     },
     "execution_count": 171,
     "metadata": {},
     "output_type": "execute_result"
    }
   ],
   "source": [
    "taxi.describe()"
   ]
  },
  {
   "cell_type": "code",
   "execution_count": 172,
   "metadata": {},
   "outputs": [
    {
     "data": {
      "text/html": [
       "<div>\n",
       "<style scoped>\n",
       "    .dataframe tbody tr th:only-of-type {\n",
       "        vertical-align: middle;\n",
       "    }\n",
       "\n",
       "    .dataframe tbody tr th {\n",
       "        vertical-align: top;\n",
       "    }\n",
       "\n",
       "    .dataframe thead th {\n",
       "        text-align: right;\n",
       "    }\n",
       "</style>\n",
       "<table border=\"1\" class=\"dataframe\">\n",
       "  <thead>\n",
       "    <tr style=\"text-align: right;\">\n",
       "      <th></th>\n",
       "      <th>pickup_longitude</th>\n",
       "      <th>pickup_latitude</th>\n",
       "      <th>dropoff_longitude</th>\n",
       "      <th>dropoff_latitude</th>\n",
       "      <th>passenger_count</th>\n",
       "    </tr>\n",
       "  </thead>\n",
       "  <tbody>\n",
       "    <tr>\n",
       "      <th>count</th>\n",
       "      <td>9914.000</td>\n",
       "      <td>9914.000</td>\n",
       "      <td>9914.000</td>\n",
       "      <td>9914.000</td>\n",
       "      <td>9914.000</td>\n",
       "    </tr>\n",
       "    <tr>\n",
       "      <th>mean</th>\n",
       "      <td>-73.975</td>\n",
       "      <td>40.751</td>\n",
       "      <td>-73.974</td>\n",
       "      <td>40.752</td>\n",
       "      <td>1.671</td>\n",
       "    </tr>\n",
       "    <tr>\n",
       "      <th>std</th>\n",
       "      <td>0.043</td>\n",
       "      <td>0.034</td>\n",
       "      <td>0.039</td>\n",
       "      <td>0.035</td>\n",
       "      <td>1.279</td>\n",
       "    </tr>\n",
       "    <tr>\n",
       "      <th>min</th>\n",
       "      <td>-74.252</td>\n",
       "      <td>40.573</td>\n",
       "      <td>-74.263</td>\n",
       "      <td>40.569</td>\n",
       "      <td>1.000</td>\n",
       "    </tr>\n",
       "    <tr>\n",
       "      <th>25%</th>\n",
       "      <td>-73.993</td>\n",
       "      <td>40.736</td>\n",
       "      <td>-73.991</td>\n",
       "      <td>40.735</td>\n",
       "      <td>1.000</td>\n",
       "    </tr>\n",
       "    <tr>\n",
       "      <th>50%</th>\n",
       "      <td>-73.982</td>\n",
       "      <td>40.753</td>\n",
       "      <td>-73.980</td>\n",
       "      <td>40.754</td>\n",
       "      <td>1.000</td>\n",
       "    </tr>\n",
       "    <tr>\n",
       "      <th>75%</th>\n",
       "      <td>-73.968</td>\n",
       "      <td>40.767</td>\n",
       "      <td>-73.964</td>\n",
       "      <td>40.769</td>\n",
       "      <td>2.000</td>\n",
       "    </tr>\n",
       "    <tr>\n",
       "      <th>max</th>\n",
       "      <td>-72.987</td>\n",
       "      <td>41.710</td>\n",
       "      <td>-72.991</td>\n",
       "      <td>41.697</td>\n",
       "      <td>6.000</td>\n",
       "    </tr>\n",
       "  </tbody>\n",
       "</table>\n",
       "</div>"
      ],
      "text/plain": [
       "       pickup_longitude  pickup_latitude  dropoff_longitude  dropoff_latitude  \\\n",
       "count          9914.000         9914.000           9914.000          9914.000   \n",
       "mean            -73.975           40.751            -73.974            40.752   \n",
       "std               0.043            0.034              0.039             0.035   \n",
       "min             -74.252           40.573            -74.263            40.569   \n",
       "25%             -73.993           40.736            -73.991            40.735   \n",
       "50%             -73.982           40.753            -73.980            40.754   \n",
       "75%             -73.968           40.767            -73.964            40.769   \n",
       "max             -72.987           41.710            -72.991            41.697   \n",
       "\n",
       "       passenger_count  \n",
       "count         9914.000  \n",
       "mean             1.671  \n",
       "std              1.279  \n",
       "min              1.000  \n",
       "25%              1.000  \n",
       "50%              1.000  \n",
       "75%              2.000  \n",
       "max              6.000  "
      ]
     },
     "execution_count": 172,
     "metadata": {},
     "output_type": "execute_result"
    }
   ],
   "source": [
    "test.describe()"
   ]
  },
  {
   "cell_type": "code",
   "execution_count": 173,
   "metadata": {},
   "outputs": [],
   "source": [
    "taxi = taxi[((taxi['pickup_longitude'] > -78) & (taxi['pickup_longitude'] < -70)) &\n",
    "            ((taxi['dropoff_longitude'] > -78) & (taxi['dropoff_longitude'] < -70)) &\n",
    "            ((taxi['pickup_latitude'] > 37) & (taxi['pickup_latitude'] < 45)) &\n",
    "            ((taxi['dropoff_latitude'] > 37) & (taxi['dropoff_latitude'] < 45)) &\n",
    "            (taxi['passenger_count'] > 0) &\n",
    "            (taxi['fare_amount'] >= 2.5)]"
   ]
  },
  {
   "cell_type": "code",
   "execution_count": 174,
   "metadata": {},
   "outputs": [
    {
     "data": {
      "text/html": [
       "<div>\n",
       "<style scoped>\n",
       "    .dataframe tbody tr th:only-of-type {\n",
       "        vertical-align: middle;\n",
       "    }\n",
       "\n",
       "    .dataframe tbody tr th {\n",
       "        vertical-align: top;\n",
       "    }\n",
       "\n",
       "    .dataframe thead th {\n",
       "        text-align: right;\n",
       "    }\n",
       "</style>\n",
       "<table border=\"1\" class=\"dataframe\">\n",
       "  <thead>\n",
       "    <tr style=\"text-align: right;\">\n",
       "      <th></th>\n",
       "      <th>fare_amount</th>\n",
       "      <th>pickup_longitude</th>\n",
       "      <th>pickup_latitude</th>\n",
       "      <th>dropoff_longitude</th>\n",
       "      <th>dropoff_latitude</th>\n",
       "      <th>passenger_count</th>\n",
       "    </tr>\n",
       "  </thead>\n",
       "  <tbody>\n",
       "    <tr>\n",
       "      <th>count</th>\n",
       "      <td>4878498.000</td>\n",
       "      <td>4878498.000</td>\n",
       "      <td>4878498.000</td>\n",
       "      <td>4878498.000</td>\n",
       "      <td>4878498.000</td>\n",
       "      <td>4878498.000</td>\n",
       "    </tr>\n",
       "    <tr>\n",
       "      <th>mean</th>\n",
       "      <td>11.333</td>\n",
       "      <td>-73.975</td>\n",
       "      <td>40.751</td>\n",
       "      <td>-73.974</td>\n",
       "      <td>40.751</td>\n",
       "      <td>1.690</td>\n",
       "    </tr>\n",
       "    <tr>\n",
       "      <th>std</th>\n",
       "      <td>9.727</td>\n",
       "      <td>0.043</td>\n",
       "      <td>0.034</td>\n",
       "      <td>0.042</td>\n",
       "      <td>0.037</td>\n",
       "      <td>1.314</td>\n",
       "    </tr>\n",
       "    <tr>\n",
       "      <th>min</th>\n",
       "      <td>2.500</td>\n",
       "      <td>-77.902</td>\n",
       "      <td>37.031</td>\n",
       "      <td>-77.971</td>\n",
       "      <td>37.031</td>\n",
       "      <td>1.000</td>\n",
       "    </tr>\n",
       "    <tr>\n",
       "      <th>25%</th>\n",
       "      <td>6.000</td>\n",
       "      <td>-73.992</td>\n",
       "      <td>40.737</td>\n",
       "      <td>-73.992</td>\n",
       "      <td>40.736</td>\n",
       "      <td>1.000</td>\n",
       "    </tr>\n",
       "    <tr>\n",
       "      <th>50%</th>\n",
       "      <td>8.500</td>\n",
       "      <td>-73.982</td>\n",
       "      <td>40.753</td>\n",
       "      <td>-73.981</td>\n",
       "      <td>40.754</td>\n",
       "      <td>1.000</td>\n",
       "    </tr>\n",
       "    <tr>\n",
       "      <th>75%</th>\n",
       "      <td>12.500</td>\n",
       "      <td>-73.968</td>\n",
       "      <td>40.768</td>\n",
       "      <td>-73.965</td>\n",
       "      <td>40.768</td>\n",
       "      <td>2.000</td>\n",
       "    </tr>\n",
       "    <tr>\n",
       "      <th>max</th>\n",
       "      <td>952.000</td>\n",
       "      <td>-70.000</td>\n",
       "      <td>44.732</td>\n",
       "      <td>-70.002</td>\n",
       "      <td>44.728</td>\n",
       "      <td>208.000</td>\n",
       "    </tr>\n",
       "  </tbody>\n",
       "</table>\n",
       "</div>"
      ],
      "text/plain": [
       "       fare_amount  pickup_longitude  pickup_latitude  dropoff_longitude  \\\n",
       "count  4878498.000       4878498.000      4878498.000        4878498.000   \n",
       "mean        11.333           -73.975           40.751            -73.974   \n",
       "std          9.727             0.043            0.034              0.042   \n",
       "min          2.500           -77.902           37.031            -77.971   \n",
       "25%          6.000           -73.992           40.737            -73.992   \n",
       "50%          8.500           -73.982           40.753            -73.981   \n",
       "75%         12.500           -73.968           40.768            -73.965   \n",
       "max        952.000           -70.000           44.732            -70.002   \n",
       "\n",
       "       dropoff_latitude  passenger_count  \n",
       "count       4878498.000      4878498.000  \n",
       "mean             40.751            1.690  \n",
       "std               0.037            1.314  \n",
       "min              37.031            1.000  \n",
       "25%              40.736            1.000  \n",
       "50%              40.754            1.000  \n",
       "75%              40.768            2.000  \n",
       "max              44.728          208.000  "
      ]
     },
     "execution_count": 174,
     "metadata": {},
     "output_type": "execute_result"
    }
   ],
   "source": [
    "taxi.describe()"
   ]
  },
  {
   "cell_type": "code",
   "execution_count": 175,
   "metadata": {},
   "outputs": [
    {
     "data": {
      "text/plain": [
       "fare_amount          0\n",
       "pickup_datetime      0\n",
       "pickup_longitude     0\n",
       "pickup_latitude      0\n",
       "dropoff_longitude    0\n",
       "dropoff_latitude     0\n",
       "passenger_count      0\n",
       "dtype: int64"
      ]
     },
     "execution_count": 175,
     "metadata": {},
     "output_type": "execute_result"
    }
   ],
   "source": [
    "taxi.isnull().sum()"
   ]
  },
  {
   "cell_type": "code",
   "execution_count": 176,
   "metadata": {},
   "outputs": [
    {
     "data": {
      "image/png": "[encoded data removed]",
      "text/plain": [
       "<Figure size 800x550 with 1 Axes>"
      ]
     },
     "metadata": {},
     "output_type": "display_data"
    }
   ],
   "source": [
    "import seaborn as sns\n",
    "\n",
    "def display(df, num):\n",
    "    lats = []\n",
    "    longs = []\n",
    "    entries = df[df['pickup_longitude'] < -70]\n",
    "  \n",
    "    for iter, row in entries[:num].iterrows():\n",
    "        lats.append(row['pickup_latitude'])\n",
    "        lats.append(row['dropoff_latitude'])\n",
    "        lats.append(None)\n",
    "        \n",
    "        longs.append(row['pickup_longitude'])\n",
    "        longs.append(row['dropoff_longitude'])\n",
    "        longs.append(None)\n",
    "\n",
    "    plt.plot(lats, longs)\n",
    "\n",
    "display(taxi, 10)"
   ]
  },
  {
   "cell_type": "code",
   "execution_count": 177,
   "metadata": {},
   "outputs": [
    {
     "data": {
      "image/png": "[encoded data removed]",
      "text/plain": [
       "<Figure size 1400x400 with 1 Axes>"
      ]
     },
     "metadata": {},
     "output_type": "display_data"
    }
   ],
   "source": [
    "plt.figure(figsize = (14, 4))\n",
    "n, bins, patches = plt.hist(taxi.fare_amount, 1000, facecolor='purple', alpha=0.75)\n",
    "plt.xlabel('$')\n",
    "plt.ylabel('No. of rides')\n",
    "plt.title('Fare amount')\n",
    "plt.xlim(0, 200)\n",
    "plt.show();"
   ]
  },
  {
   "cell_type": "code",
   "execution_count": 178,
   "metadata": {},
   "outputs": [
    {
     "data": {
      "text/plain": [
       "fare_amount\n",
       "6.500     237317\n",
       "4.500     200433\n",
       "8.500     183203\n",
       "5.700     142304\n",
       "5.300     142293\n",
       "6.100     138084\n",
       "4.900     138049\n",
       "6.900     127239\n",
       "10.500    124046\n",
       "7.300     119606\n",
       "dtype: int64"
      ]
     },
     "execution_count": 178,
     "metadata": {},
     "output_type": "execute_result"
    }
   ],
   "source": [
    "taxi.groupby('fare_amount').size().nlargest(10)"
   ]
  },
  {
   "cell_type": "code",
   "execution_count": 179,
   "metadata": {},
   "outputs": [
    {
     "data": {
      "image/png": "[encoded data removed]",
      "text/plain": [
       "<Figure size 800x550 with 1 Axes>"
      ]
     },
     "metadata": {},
     "output_type": "display_data"
    }
   ],
   "source": [
    "taxi['passenger_count'].value_counts().plot.bar(color='c', edgecolor='k')\n",
    "plt.title('Passenger counts')\n",
    "plt.xlabel('No. of passengers')\n",
    "plt.ylabel('No. of rides')\n",
    "plt.gca().get_yaxis().get_major_formatter().set_scientific(False)\n",
    "plt.show()"
   ]
  },
  {
   "cell_type": "code",
   "execution_count": 180,
   "metadata": {},
   "outputs": [
    {
     "data": {
      "text/plain": [
       "passenger_count\n",
       "1      3386066\n",
       "2       723885\n",
       "3       214918\n",
       "4       103907\n",
       "5       346169\n",
       "6       103547\n",
       "7            1\n",
       "9            2\n",
       "129          1\n",
       "208          2\n",
       "dtype: int64"
      ]
     },
     "execution_count": 180,
     "metadata": {},
     "output_type": "execute_result"
    }
   ],
   "source": [
    "taxi.groupby('passenger_count').size()"
   ]
  },
  {
   "cell_type": "code",
   "execution_count": 183,
   "metadata": {},
   "outputs": [],
   "source": [
    "taxi = taxi.loc[taxi['passenger_count'] <= 6]"
   ]
  },
  {
   "cell_type": "code",
   "execution_count": 184,
   "metadata": {},
   "outputs": [],
   "source": [
    "from sklearn.model_selection import train_test_split\n",
    "\n",
    "train, test = train_test_split(taxi, test_size=0.3, random_state=42)"
   ]
  },
  {
   "cell_type": "code",
   "execution_count": 188,
   "metadata": {},
   "outputs": [],
   "source": [
    "import numpy as np\n",
    "import shutil\n",
    "\n",
    "def distance(lat1, lon1, lat2, lon2):\n",
    "    dist = np.degrees(np.arccos(np.sin(np.radians(lat1)) *\n",
    "                                np.sin(np.radians(lat2)) +\n",
    "                                np.cos(np.radians(lat1)) *\n",
    "                                np.cos(np.radians(lat2)) *\n",
    "                                np.cos(np.radians(lon2 - lon1))) * 60 * 1.515 * 1.609344)\n",
    "    return dist\n",
    "\n",
    "def estimate_distance(df):\n",
    "    return distance(df['pickup_latitude'], df['pickup_longitude'], df['dropoff_latitude'], df['dropoff_longitude'])\n",
    "\n",
    "def compute_rmse(actual, predicted):\n",
    "    return np.sqrt(np.mean((actual - predicted)**2))\n",
    "\n",
    "def print_rmse(df, rate, name):\n",
    "    print(\"{1} RMSE = {0}\".format(compute_rmse(df['fare_amount'], rate * estimate_distance(df)), name))"
   ]
  },
  {
   "cell_type": "code",
   "execution_count": 189,
   "metadata": {},
   "outputs": [
    {
     "name": "stdout",
     "output_type": "stream",
     "text": [
      "Rate = $2.5656782139815464/km\n",
      "Train RMSE = 9.828029000759377\n",
      "Test RMSE = 10.071417622931989\n"
     ]
    }
   ],
   "source": [
    "rate = train['fare_amount'].mean() / estimate_distance(train).mean()\n",
    "\n",
    "print(\"Rate = ${0}/km\".format(rate))\n",
    "print_rmse(train, rate, 'Train')\n",
    "print_rmse(test, rate, 'Test')"
   ]
  },
  {
   "cell_type": "code",
   "execution_count": 190,
   "metadata": {},
   "outputs": [],
   "source": [
    "taxi['year'] = taxi.pickup_datetime.dt.year\n",
    "taxi['month'] = taxi.pickup_datetime.dt.month\n",
    "taxi['day'] = taxi.pickup_datetime.dt.day\n",
    "taxi['weekday'] = taxi.pickup_datetime.dt.weekday\n",
    "taxi['hour'] = taxi.pickup_datetime.dt.hour"
   ]
  },
  {
   "cell_type": "code",
   "execution_count": 191,
   "metadata": {},
   "outputs": [
    {
     "data": {
      "text/html": [
       "<div>\n",
       "<style scoped>\n",
       "    .dataframe tbody tr th:only-of-type {\n",
       "        vertical-align: middle;\n",
       "    }\n",
       "\n",
       "    .dataframe tbody tr th {\n",
       "        vertical-align: top;\n",
       "    }\n",
       "\n",
       "    .dataframe thead th {\n",
       "        text-align: right;\n",
       "    }\n",
       "</style>\n",
       "<table border=\"1\" class=\"dataframe\">\n",
       "  <thead>\n",
       "    <tr style=\"text-align: right;\">\n",
       "      <th></th>\n",
       "      <th>fare_amount</th>\n",
       "      <th>pickup_datetime</th>\n",
       "      <th>pickup_longitude</th>\n",
       "      <th>pickup_latitude</th>\n",
       "      <th>dropoff_longitude</th>\n",
       "      <th>dropoff_latitude</th>\n",
       "      <th>passenger_count</th>\n",
       "      <th>year</th>\n",
       "      <th>month</th>\n",
       "      <th>day</th>\n",
       "      <th>weekday</th>\n",
       "      <th>hour</th>\n",
       "    </tr>\n",
       "  </thead>\n",
       "  <tbody>\n",
       "    <tr>\n",
       "      <th>0</th>\n",
       "      <td>4.500</td>\n",
       "      <td>2009-06-15 17:26:21+00:00</td>\n",
       "      <td>-73.844</td>\n",
       "      <td>40.721</td>\n",
       "      <td>-73.842</td>\n",
       "      <td>40.712</td>\n",
       "      <td>1</td>\n",
       "      <td>2009</td>\n",
       "      <td>6</td>\n",
       "      <td>15</td>\n",
       "      <td>0</td>\n",
       "      <td>17</td>\n",
       "    </tr>\n",
       "    <tr>\n",
       "      <th>1</th>\n",
       "      <td>16.900</td>\n",
       "      <td>2010-01-05 16:52:16+00:00</td>\n",
       "      <td>-74.016</td>\n",
       "      <td>40.711</td>\n",
       "      <td>-73.979</td>\n",
       "      <td>40.782</td>\n",
       "      <td>1</td>\n",
       "      <td>2010</td>\n",
       "      <td>1</td>\n",
       "      <td>5</td>\n",
       "      <td>1</td>\n",
       "      <td>16</td>\n",
       "    </tr>\n",
       "    <tr>\n",
       "      <th>2</th>\n",
       "      <td>5.700</td>\n",
       "      <td>2011-08-18 00:35:00+00:00</td>\n",
       "      <td>-73.983</td>\n",
       "      <td>40.761</td>\n",
       "      <td>-73.991</td>\n",
       "      <td>40.751</td>\n",
       "      <td>2</td>\n",
       "      <td>2011</td>\n",
       "      <td>8</td>\n",
       "      <td>18</td>\n",
       "      <td>3</td>\n",
       "      <td>0</td>\n",
       "    </tr>\n",
       "    <tr>\n",
       "      <th>3</th>\n",
       "      <td>7.700</td>\n",
       "      <td>2012-04-21 04:30:42+00:00</td>\n",
       "      <td>-73.987</td>\n",
       "      <td>40.733</td>\n",
       "      <td>-73.992</td>\n",
       "      <td>40.758</td>\n",
       "      <td>1</td>\n",
       "      <td>2012</td>\n",
       "      <td>4</td>\n",
       "      <td>21</td>\n",
       "      <td>5</td>\n",
       "      <td>4</td>\n",
       "    </tr>\n",
       "    <tr>\n",
       "      <th>4</th>\n",
       "      <td>5.300</td>\n",
       "      <td>2010-03-09 07:51:00+00:00</td>\n",
       "      <td>-73.968</td>\n",
       "      <td>40.768</td>\n",
       "      <td>-73.957</td>\n",
       "      <td>40.784</td>\n",
       "      <td>1</td>\n",
       "      <td>2010</td>\n",
       "      <td>3</td>\n",
       "      <td>9</td>\n",
       "      <td>1</td>\n",
       "      <td>7</td>\n",
       "    </tr>\n",
       "  </tbody>\n",
       "</table>\n",
       "</div>"
      ],
      "text/plain": [
       "   fare_amount           pickup_datetime  pickup_longitude  pickup_latitude  \\\n",
       "0        4.500 2009-06-15 17:26:21+00:00           -73.844           40.721   \n",
       "1       16.900 2010-01-05 16:52:16+00:00           -74.016           40.711   \n",
       "2        5.700 2011-08-18 00:35:00+00:00           -73.983           40.761   \n",
       "3        7.700 2012-04-21 04:30:42+00:00           -73.987           40.733   \n",
       "4        5.300 2010-03-09 07:51:00+00:00           -73.968           40.768   \n",
       "\n",
       "   dropoff_longitude  dropoff_latitude  passenger_count  year  month  day  \\\n",
       "0            -73.842            40.712                1  2009      6   15   \n",
       "1            -73.979            40.782                1  2010      1    5   \n",
       "2            -73.991            40.751                2  2011      8   18   \n",
       "3            -73.992            40.758                1  2012      4   21   \n",
       "4            -73.957            40.784                1  2010      3    9   \n",
       "\n",
       "   weekday  hour  \n",
       "0        0    17  \n",
       "1        1    16  \n",
       "2        3     0  \n",
       "3        5     4  \n",
       "4        1     7  "
      ]
     },
     "execution_count": 191,
     "metadata": {},
     "output_type": "execute_result"
    }
   ],
   "source": [
    "taxi.head()"
   ]
  },
  {
   "cell_type": "code",
   "execution_count": 192,
   "metadata": {},
   "outputs": [],
   "source": [
    "from math import radians, cos, sin, asin, sqrt\n",
    "import numpy as np\n",
    "\n",
    "def haversine_np(lon1, lat1, lon2, lat2):\n",
    "    lon1, lat1, lon2, lat2 = map(np.radians, [lon1, lat1, lon2, lat2])\n",
    "\n",
    "    dlon = lon2 - lon1\n",
    "    dlat = lat2 - lat1\n",
    "\n",
    "    a = np.sin(dlat/2.0)**2 + np.cos(lat1) * np.cos(lat2) * np.sin(dlon/2.0)**2\n",
    "\n",
    "    c = 2 * np.arcsin(np.sqrt(a))\n",
    "    km = 6371 * c\n",
    "    \n",
    "    return km\n",
    "\n",
    "taxi['distance'] = haversine_np(taxi['pickup_latitude'], taxi['pickup_longitude'], taxi['dropoff_latitude'] , taxi['dropoff_longitude'])"
   ]
  },
  {
   "cell_type": "code",
   "execution_count": 193,
   "metadata": {},
   "outputs": [
    {
     "data": {
      "text/html": [
       "<div>\n",
       "<style scoped>\n",
       "    .dataframe tbody tr th:only-of-type {\n",
       "        vertical-align: middle;\n",
       "    }\n",
       "\n",
       "    .dataframe tbody tr th {\n",
       "        vertical-align: top;\n",
       "    }\n",
       "\n",
       "    .dataframe thead th {\n",
       "        text-align: right;\n",
       "    }\n",
       "</style>\n",
       "<table border=\"1\" class=\"dataframe\">\n",
       "  <thead>\n",
       "    <tr style=\"text-align: right;\">\n",
       "      <th></th>\n",
       "      <th>fare_amount</th>\n",
       "      <th>pickup_datetime</th>\n",
       "      <th>pickup_longitude</th>\n",
       "      <th>pickup_latitude</th>\n",
       "      <th>dropoff_longitude</th>\n",
       "      <th>dropoff_latitude</th>\n",
       "      <th>passenger_count</th>\n",
       "      <th>year</th>\n",
       "      <th>month</th>\n",
       "      <th>day</th>\n",
       "      <th>weekday</th>\n",
       "      <th>hour</th>\n",
       "      <th>distance</th>\n",
       "    </tr>\n",
       "  </thead>\n",
       "  <tbody>\n",
       "    <tr>\n",
       "      <th>0</th>\n",
       "      <td>4.500</td>\n",
       "      <td>2009-06-15 17:26:21+00:00</td>\n",
       "      <td>-73.844</td>\n",
       "      <td>40.721</td>\n",
       "      <td>-73.842</td>\n",
       "      <td>40.712</td>\n",
       "      <td>1</td>\n",
       "      <td>2009</td>\n",
       "      <td>6</td>\n",
       "      <td>15</td>\n",
       "      <td>0</td>\n",
       "      <td>17</td>\n",
       "      <td>0.410</td>\n",
       "    </tr>\n",
       "    <tr>\n",
       "      <th>1</th>\n",
       "      <td>16.900</td>\n",
       "      <td>2010-01-05 16:52:16+00:00</td>\n",
       "      <td>-74.016</td>\n",
       "      <td>40.711</td>\n",
       "      <td>-73.979</td>\n",
       "      <td>40.782</td>\n",
       "      <td>1</td>\n",
       "      <td>2010</td>\n",
       "      <td>1</td>\n",
       "      <td>5</td>\n",
       "      <td>1</td>\n",
       "      <td>16</td>\n",
       "      <td>4.629</td>\n",
       "    </tr>\n",
       "    <tr>\n",
       "      <th>2</th>\n",
       "      <td>5.700</td>\n",
       "      <td>2011-08-18 00:35:00+00:00</td>\n",
       "      <td>-73.983</td>\n",
       "      <td>40.761</td>\n",
       "      <td>-73.991</td>\n",
       "      <td>40.751</td>\n",
       "      <td>2</td>\n",
       "      <td>2011</td>\n",
       "      <td>8</td>\n",
       "      <td>18</td>\n",
       "      <td>3</td>\n",
       "      <td>0</td>\n",
       "      <td>1.001</td>\n",
       "    </tr>\n",
       "    <tr>\n",
       "      <th>3</th>\n",
       "      <td>7.700</td>\n",
       "      <td>2012-04-21 04:30:42+00:00</td>\n",
       "      <td>-73.987</td>\n",
       "      <td>40.733</td>\n",
       "      <td>-73.992</td>\n",
       "      <td>40.758</td>\n",
       "      <td>1</td>\n",
       "      <td>2012</td>\n",
       "      <td>4</td>\n",
       "      <td>21</td>\n",
       "      <td>5</td>\n",
       "      <td>4</td>\n",
       "      <td>0.910</td>\n",
       "    </tr>\n",
       "    <tr>\n",
       "      <th>4</th>\n",
       "      <td>5.300</td>\n",
       "      <td>2010-03-09 07:51:00+00:00</td>\n",
       "      <td>-73.968</td>\n",
       "      <td>40.768</td>\n",
       "      <td>-73.957</td>\n",
       "      <td>40.784</td>\n",
       "      <td>1</td>\n",
       "      <td>2010</td>\n",
       "      <td>3</td>\n",
       "      <td>9</td>\n",
       "      <td>1</td>\n",
       "      <td>7</td>\n",
       "      <td>1.361</td>\n",
       "    </tr>\n",
       "  </tbody>\n",
       "</table>\n",
       "</div>"
      ],
      "text/plain": [
       "   fare_amount           pickup_datetime  pickup_longitude  pickup_latitude  \\\n",
       "0        4.500 2009-06-15 17:26:21+00:00           -73.844           40.721   \n",
       "1       16.900 2010-01-05 16:52:16+00:00           -74.016           40.711   \n",
       "2        5.700 2011-08-18 00:35:00+00:00           -73.983           40.761   \n",
       "3        7.700 2012-04-21 04:30:42+00:00           -73.987           40.733   \n",
       "4        5.300 2010-03-09 07:51:00+00:00           -73.968           40.768   \n",
       "\n",
       "   dropoff_longitude  dropoff_latitude  passenger_count  year  month  day  \\\n",
       "0            -73.842            40.712                1  2009      6   15   \n",
       "1            -73.979            40.782                1  2010      1    5   \n",
       "2            -73.991            40.751                2  2011      8   18   \n",
       "3            -73.992            40.758                1  2012      4   21   \n",
       "4            -73.957            40.784                1  2010      3    9   \n",
       "\n",
       "   weekday  hour  distance  \n",
       "0        0    17     0.410  \n",
       "1        1    16     4.629  \n",
       "2        3     0     1.001  \n",
       "3        5     4     0.910  \n",
       "4        1     7     1.361  "
      ]
     },
     "execution_count": 193,
     "metadata": {},
     "output_type": "execute_result"
    }
   ],
   "source": [
    "taxi.head()"
   ]
  },
  {
   "cell_type": "code",
   "execution_count": 195,
   "metadata": {},
   "outputs": [
    {
     "data": {
      "image/png": "[encoded data removed]",
      "text/plain": [
       "<Figure size 1400x400 with 1 Axes>"
      ]
     },
     "metadata": {},
     "output_type": "display_data"
    }
   ],
   "source": [
    "plt.figure(figsize = (14, 4))\n",
    "n, bins, patches = plt.hist(taxi.distance, 1000, facecolor='blue', alpha=0.75)\n",
    "plt.xlabel('Km')\n",
    "plt.ylabel('No. of rides')\n",
    "plt.title('Ride distance')\n",
    "plt.show();"
   ]
  },
  {
   "cell_type": "code",
   "execution_count": 196,
   "metadata": {},
   "outputs": [
    {
     "data": {
      "text/plain": [
       "count   4878492.000\n",
       "mean          2.724\n",
       "std           4.275\n",
       "min           0.000\n",
       "25%           0.853\n",
       "50%           1.552\n",
       "75%           2.831\n",
       "max         424.674\n",
       "Name: distance, dtype: float64"
      ]
     },
     "execution_count": 196,
     "metadata": {},
     "output_type": "execute_result"
    }
   ],
   "source": [
    "taxi['distance'].describe()"
   ]
  },
  {
   "cell_type": "code",
   "execution_count": 197,
   "metadata": {},
   "outputs": [],
   "source": [
    "taxi = taxi.loc[taxi['distance'] > 0]"
   ]
  },
  {
   "cell_type": "code",
   "execution_count": 198,
   "metadata": {},
   "outputs": [],
   "source": [
    "JFK_xy = (40.6413, -73.7781)\n",
    "\n",
    "pickup_JFK = haversine_np(taxi['pickup_latitude'], taxi['pickup_longitude'], JFK_xy[0], JFK_xy[1]) \n",
    "dropoff_JFK = haversine_np(JFK_xy[0], JFK_xy[1], taxi['dropoff_latitude'], taxi['dropoff_longitude'])"
   ]
  },
  {
   "cell_type": "code",
   "execution_count": 199,
   "metadata": {},
   "outputs": [],
   "source": [
    "taxi['JFK_distance'] = pd.concat([pickup_JFK, dropoff_JFK], axis=1).min(axis=1)"
   ]
  },
  {
   "cell_type": "code",
   "execution_count": 200,
   "metadata": {},
   "outputs": [
    {
     "data": {
      "text/plain": [
       "count   4826440.000\n",
       "mean         21.001\n",
       "std           4.558\n",
       "min           0.021\n",
       "25%          20.274\n",
       "50%          22.062\n",
       "75%          23.150\n",
       "max         455.905\n",
       "Name: JFK_distance, dtype: float64"
      ]
     },
     "execution_count": 200,
     "metadata": {},
     "output_type": "execute_result"
    }
   ],
   "source": [
    "taxi['JFK_distance'].describe()"
   ]
  },
  {
   "cell_type": "code",
   "execution_count": 201,
   "metadata": {},
   "outputs": [
    {
     "data": {
      "text/html": [
       "<div>\n",
       "<style scoped>\n",
       "    .dataframe tbody tr th:only-of-type {\n",
       "        vertical-align: middle;\n",
       "    }\n",
       "\n",
       "    .dataframe tbody tr th {\n",
       "        vertical-align: top;\n",
       "    }\n",
       "\n",
       "    .dataframe thead th {\n",
       "        text-align: right;\n",
       "    }\n",
       "</style>\n",
       "<table border=\"1\" class=\"dataframe\">\n",
       "  <thead>\n",
       "    <tr style=\"text-align: right;\">\n",
       "      <th></th>\n",
       "      <th>fare_amount</th>\n",
       "      <th>pickup_datetime</th>\n",
       "      <th>pickup_longitude</th>\n",
       "      <th>pickup_latitude</th>\n",
       "      <th>dropoff_longitude</th>\n",
       "      <th>dropoff_latitude</th>\n",
       "      <th>passenger_count</th>\n",
       "      <th>year</th>\n",
       "      <th>month</th>\n",
       "      <th>day</th>\n",
       "      <th>weekday</th>\n",
       "      <th>hour</th>\n",
       "      <th>distance</th>\n",
       "      <th>JFK_distance</th>\n",
       "    </tr>\n",
       "  </thead>\n",
       "  <tbody>\n",
       "    <tr>\n",
       "      <th>0</th>\n",
       "      <td>4.500</td>\n",
       "      <td>2009-06-15 17:26:21+00:00</td>\n",
       "      <td>-73.844</td>\n",
       "      <td>40.721</td>\n",
       "      <td>-73.842</td>\n",
       "      <td>40.712</td>\n",
       "      <td>1</td>\n",
       "      <td>2009</td>\n",
       "      <td>6</td>\n",
       "      <td>15</td>\n",
       "      <td>0</td>\n",
       "      <td>17</td>\n",
       "      <td>0.410</td>\n",
       "      <td>7.397</td>\n",
       "    </tr>\n",
       "    <tr>\n",
       "      <th>1</th>\n",
       "      <td>16.900</td>\n",
       "      <td>2010-01-05 16:52:16+00:00</td>\n",
       "      <td>-74.016</td>\n",
       "      <td>40.711</td>\n",
       "      <td>-73.979</td>\n",
       "      <td>40.782</td>\n",
       "      <td>1</td>\n",
       "      <td>2010</td>\n",
       "      <td>1</td>\n",
       "      <td>5</td>\n",
       "      <td>1</td>\n",
       "      <td>16</td>\n",
       "      <td>4.629</td>\n",
       "      <td>22.787</td>\n",
       "    </tr>\n",
       "    <tr>\n",
       "      <th>2</th>\n",
       "      <td>5.700</td>\n",
       "      <td>2011-08-18 00:35:00+00:00</td>\n",
       "      <td>-73.983</td>\n",
       "      <td>40.761</td>\n",
       "      <td>-73.991</td>\n",
       "      <td>40.751</td>\n",
       "      <td>2</td>\n",
       "      <td>2011</td>\n",
       "      <td>8</td>\n",
       "      <td>18</td>\n",
       "      <td>3</td>\n",
       "      <td>0</td>\n",
       "      <td>1.001</td>\n",
       "      <td>23.054</td>\n",
       "    </tr>\n",
       "    <tr>\n",
       "      <th>3</th>\n",
       "      <td>7.700</td>\n",
       "      <td>2012-04-21 04:30:42+00:00</td>\n",
       "      <td>-73.987</td>\n",
       "      <td>40.733</td>\n",
       "      <td>-73.992</td>\n",
       "      <td>40.758</td>\n",
       "      <td>1</td>\n",
       "      <td>2012</td>\n",
       "      <td>4</td>\n",
       "      <td>21</td>\n",
       "      <td>5</td>\n",
       "      <td>4</td>\n",
       "      <td>0.910</td>\n",
       "      <td>23.415</td>\n",
       "    </tr>\n",
       "    <tr>\n",
       "      <th>4</th>\n",
       "      <td>5.300</td>\n",
       "      <td>2010-03-09 07:51:00+00:00</td>\n",
       "      <td>-73.968</td>\n",
       "      <td>40.768</td>\n",
       "      <td>-73.957</td>\n",
       "      <td>40.784</td>\n",
       "      <td>1</td>\n",
       "      <td>2010</td>\n",
       "      <td>3</td>\n",
       "      <td>9</td>\n",
       "      <td>1</td>\n",
       "      <td>7</td>\n",
       "      <td>1.361</td>\n",
       "      <td>20.336</td>\n",
       "    </tr>\n",
       "  </tbody>\n",
       "</table>\n",
       "</div>"
      ],
      "text/plain": [
       "   fare_amount           pickup_datetime  pickup_longitude  pickup_latitude  \\\n",
       "0        4.500 2009-06-15 17:26:21+00:00           -73.844           40.721   \n",
       "1       16.900 2010-01-05 16:52:16+00:00           -74.016           40.711   \n",
       "2        5.700 2011-08-18 00:35:00+00:00           -73.983           40.761   \n",
       "3        7.700 2012-04-21 04:30:42+00:00           -73.987           40.733   \n",
       "4        5.300 2010-03-09 07:51:00+00:00           -73.968           40.768   \n",
       "\n",
       "   dropoff_longitude  dropoff_latitude  passenger_count  year  month  day  \\\n",
       "0            -73.842            40.712                1  2009      6   15   \n",
       "1            -73.979            40.782                1  2010      1    5   \n",
       "2            -73.991            40.751                2  2011      8   18   \n",
       "3            -73.992            40.758                1  2012      4   21   \n",
       "4            -73.957            40.784                1  2010      3    9   \n",
       "\n",
       "   weekday  hour  distance  JFK_distance  \n",
       "0        0    17     0.410         7.397  \n",
       "1        1    16     4.629        22.787  \n",
       "2        3     0     1.001        23.054  \n",
       "3        5     4     0.910        23.415  \n",
       "4        1     7     1.361        20.336  "
      ]
     },
     "execution_count": 201,
     "metadata": {},
     "output_type": "execute_result"
    }
   ],
   "source": [
    "taxi.head()"
   ]
  },
  {
   "cell_type": "code",
   "execution_count": 202,
   "metadata": {},
   "outputs": [],
   "source": [
    "del taxi['pickup_datetime']"
   ]
  },
  {
   "cell_type": "code",
   "execution_count": 204,
   "metadata": {},
   "outputs": [],
   "source": [
    "from sklearn.model_selection import train_test_split\n",
    "\n",
    "y = taxi['fare_amount']\n",
    "X = taxi.drop(columns=['fare_amount'])\n",
    "X_train, X_test, y_train, y_test = train_test_split(X, y, test_size=0.3, random_state=42)"
   ]
  },
  {
   "cell_type": "code",
   "execution_count": 205,
   "metadata": {},
   "outputs": [],
   "source": [
    "from sklearn.linear_model import LinearRegression\n",
    "\n",
    "lr = LinearRegression()\n",
    "lr.fit(X_train, y_train)\n",
    "y_pred = lr.predict(X_test)"
   ]
  },
  {
   "cell_type": "code",
   "execution_count": 207,
   "metadata": {},
   "outputs": [
    {
     "name": "stdout",
     "output_type": "stream",
     "text": [
      "Test RMSE: 6.067\n"
     ]
    }
   ],
   "source": [
    "from sklearn.metrics import mean_squared_error\n",
    "\n",
    "print(\"Test RMSE: %.3f\" % mean_squared_error(y_test, y_pred) ** 0.5)"
   ]
  },
  {
   "cell_type": "code",
   "execution_count": 208,
   "metadata": {},
   "outputs": [
    {
     "name": "stdout",
     "output_type": "stream",
     "text": [
      "Test RMSE: 5.665\n"
     ]
    }
   ],
   "source": [
    "from sklearn.ensemble import RandomForestRegressor\n",
    "\n",
    "rf = RandomForestRegressor(max_depth=2, random_state=0, n_estimators=100)\n",
    "rf.fit(X_train, y_train)\n",
    "y_pred = rf.predict(X_test)\n",
    "print(\"Test RMSE: %.3f\" % mean_squared_error(y_test, y_pred) ** 0.5)"
   ]
  },
  {
   "cell_type": "code",
   "execution_count": 210,
   "metadata": {},
   "outputs": [],
   "source": [
    "import lightgbm as lgb\n",
    "\n",
    "params = {\n",
    "        'learning_rate': 0.75,\n",
    "        'application': 'regression',\n",
    "        'max_depth': 3,\n",
    "        'num_leaves': 100,\n",
    "        'verbosity': -1,\n",
    "        'metric': 'RMSE',\n",
    "    }"
   ]
  },
  {
   "cell_type": "code",
   "execution_count": 211,
   "metadata": {},
   "outputs": [],
   "source": [
    "train_set = lgb.Dataset(X_train, y_train, silent=True)"
   ]
  },
  {
   "cell_type": "code",
   "execution_count": 213,
   "metadata": {},
   "outputs": [],
   "source": [
    "lb = lgb.train(params, train_set = train_set, num_boost_round=300)"
   ]
  },
  {
   "cell_type": "code",
   "execution_count": 214,
   "metadata": {},
   "outputs": [],
   "source": [
    "y_pred = lb.predict(X_test, num_iteration = lb.best_iteration)"
   ]
  },
  {
   "cell_type": "code",
   "execution_count": 215,
   "metadata": {},
   "outputs": [
    {
     "name": "stdout",
     "output_type": "stream",
     "text": [
      "Test RMSE: 3.729\n"
     ]
    }
   ],
   "source": [
    "print(\"Test RMSE: %.3f\" % mean_squared_error(y_test, y_pred) ** 0.5)"
   ]
  },
  {
   "cell_type": "code",
   "execution_count": 217,
   "metadata": {},
   "outputs": [],
   "source": [
    "from keras.models import Sequential\n",
    "from keras.layers import Dense\n",
    "from keras.wrappers.scikit_learn import KerasRegressor\n",
    "from sklearn.model_selection import cross_val_score\n",
    "from sklearn.model_selection import KFold\n",
    "from sklearn.preprocessing import StandardScaler\n",
    "from sklearn.pipeline import Pipeline"
   ]
  },
  {
   "cell_type": "code",
   "execution_count": 231,
   "metadata": {},
   "outputs": [],
   "source": [
    "def baseline_model():\n",
    "    model = Sequential()\n",
    "    model.add(Dense(12, input_dim=12, kernel_initializer='normal', activation='relu'))\n",
    "    model.add(Dense(1, kernel_initializer='normal'))\n",
    "\n",
    "    model.compile(loss='mean_squared_error', optimizer='adam')\n",
    "    \n",
    "    return model"
   ]
  },
  {
   "cell_type": "code",
   "execution_count": 233,
   "metadata": {},
   "outputs": [
    {
     "name": "stderr",
     "output_type": "stream",
     "text": [
      "C:\\Users\\Alina\\AppData\\Local\\Temp\\ipykernel_5676\\683968365.py:4: DeprecationWarning: KerasRegressor is deprecated, use Sci-Keras (https://github.com/adriangb/scikeras) instead. See https://www.adriangb.com/scikeras/stable/migration.html for help migrating.\n",
      "  estimator = KerasRegressor(build_fn=baseline_model, nb_epoch=100, batch_size=5, verbose=0)\n"
     ]
    }
   ],
   "source": [
    "seed = 7\n",
    "np.random.seed(seed)\n",
    "\n",
    "estimator = KerasRegressor(build_fn=baseline_model, nb_epoch=100, batch_size=5, verbose=0)"
   ]
  },
  {
   "cell_type": "code",
   "execution_count": 236,
   "metadata": {},
   "outputs": [
    {
     "name": "stdout",
     "output_type": "stream",
     "text": [
      "Results: -29.70 (1.22) MSE\n"
     ]
    }
   ],
   "source": [
    "kfold = KFold(n_splits=10, random_state=seed, shuffle=True)\n",
    "results = cross_val_score(estimator, X.values, y.values, cv=kfold, n_jobs=1)\n",
    "print(\"Results: %.2f (%.2f) MSE\" % (results.mean(), results.std()))"
   ]
  },
  {
   "cell_type": "code",
   "execution_count": 237,
   "metadata": {},
   "outputs": [
    {
     "name": "stdout",
     "output_type": "stream",
     "text": [
      "RMSE: 1.1022788721388765\n"
     ]
    }
   ],
   "source": [
    "print(\"RMSE:\", np.sqrt(results.std()))"
   ]
  }
 ],
 "metadata": {
  "kernelspec": {
   "display_name": "Python 3",
   "language": "python",
   "name": "python3"
  },
  "language_info": {
   "codemirror_mode": {
    "name": "ipython",
    "version": 3
   },
   "file_extension": ".py",
   "mimetype": "text/x-python",
   "name": "python",
   "nbconvert_exporter": "python",
   "pygments_lexer": "ipython3",
   "version": "3.10.10"
  },
  "orig_nbformat": 4
 },
 "nbformat": 4,
 "nbformat_minor": 2
}
